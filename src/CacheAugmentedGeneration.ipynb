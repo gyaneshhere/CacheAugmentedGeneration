{
 "cells": [
  {
   "cell_type": "code",
   "execution_count": 3,
   "id": "9bda0c77-ef52-4b5a-8af9-410dc0368481",
   "metadata": {},
   "outputs": [],
   "source": [
    "import os\n",
    "import json\n",
    "import dotenv\n",
    "import openai\n",
    "\n",
    "dotenv.load_dotenv()\n",
    "api_key=os.getenv(\"OPENAI_API_KEY\")"
   ]
  },
  {
   "cell_type": "code",
   "execution_count": 8,
   "id": "ad2c10ee-8c8a-4ab4-bc5f-8685af59dc13",
   "metadata": {},
   "outputs": [
    {
     "name": "stdout",
     "output_type": "stream",
     "text": [
      "Answer: The El Tower is located in Patna, Bihar.\n"
     ]
    }
   ],
   "source": [
    "import openai\n",
    "\n",
    "# Preload Knowledge Base (Static Dataset)\n",
    "knowledge_base = \"\"\"\n",
    "The El Tower is located in Patna, Bihar. \n",
    "It was completed in 1889 and is one of the most famous landmarks in the world.\n",
    "\"\"\"\n",
    "\n",
    "# Define Query Function\n",
    "def query_with_cag(context: str, query: str) -> str:\n",
    "    \"\"\"\n",
    "    Query the LLM with preloaded context using Cache-Augmented Generation.\n",
    "    \"\"\"\n",
    "    prompt = f\"Context:\\n{context}\\n\\nQuery: {query}\\nAnswer:\"\n",
    "    \n",
    "    response = openai.chat.completions.create(\n",
    "        model=\"gpt-4\",\n",
    "        messages=[\n",
    "            {\"role\": \"system\", \"content\": \"You are an assistant knowledgeable about historical landmarks.\"},\n",
    "            {\"role\": \"user\", \"content\": prompt}\n",
    "        ],\n",
    "        max_tokens=100,\n",
    "        temperature=0.5\n",
    "    )\n",
    "    \n",
    "    return response.choices[0].message.content.strip()\n",
    "\n",
    "# Example Query\n",
    "query = \"Where is the El Tower located?\"\n",
    "response = query_with_cag(knowledge_base, query)\n",
    "print(\"Answer:\", response)"
   ]
  },
  {
   "cell_type": "code",
   "execution_count": 10,
   "id": "782d32a2-26f4-4433-825d-89bc81dcd334",
   "metadata": {},
   "outputs": [],
   "source": [
    "if not os.path.exists(\"document.txt\"):\n",
    "    raise FileNotFoundError(\"Please create a `document.txt` with info about Ronan Takizawa.\")\n",
    "\n",
    "with open(\"document.txt\", \"r\", encoding=\"utf-8\") as f:\n",
    "    doc_text = f.read()"
   ]
  },
  {
   "cell_type": "code",
   "execution_count": 13,
   "id": "a80b854f-a3d7-4943-82e9-17cc2fce58b5",
   "metadata": {},
   "outputs": [
    {
     "name": "stdout",
     "output_type": "stream",
     "text": [
      "Answer: The document does not provide any information on Ram Bysani.\n"
     ]
    }
   ],
   "source": [
    "# Example Query\n",
    "query = \"Who is Ram Bysani?\"\n",
    "response = query_with_cag(doc_text, query)\n",
    "print(\"Answer:\", response)"
   ]
  },
  {
   "cell_type": "code",
   "execution_count": null,
   "id": "1f23ae16-1de9-4b40-b6af-72c796625772",
   "metadata": {},
   "outputs": [],
   "source": []
  }
 ],
 "metadata": {
  "kernelspec": {
   "display_name": "Python 3 (ipykernel)",
   "language": "python",
   "name": "python3"
  },
  "language_info": {
   "codemirror_mode": {
    "name": "ipython",
    "version": 3
   },
   "file_extension": ".py",
   "mimetype": "text/x-python",
   "name": "python",
   "nbconvert_exporter": "python",
   "pygments_lexer": "ipython3",
   "version": "3.12.4"
  }
 },
 "nbformat": 4,
 "nbformat_minor": 5
}
